{
 "cells": [
  {
   "cell_type": "markdown",
   "id": "71afebd4",
   "metadata": {},
   "source": [
    "#### Cody Kaminski\n",
    "#### 11/23/2022\n",
    "#### Project 2: Data Analysis with Python\n",
    "#### The purpose of this project is to make conclusions based on analyzations of data"
   ]
  },
  {
   "cell_type": "markdown",
   "id": "c96a57a8",
   "metadata": {},
   "source": [
    "#### Importing pandas library and pyplot library"
   ]
  },
  {
   "cell_type": "code",
   "execution_count": 152,
   "id": "1d13012c",
   "metadata": {},
   "outputs": [],
   "source": [
    "import pandas as pd\n",
    "from matplotlib import pyplot as plt"
   ]
  },
  {
   "cell_type": "markdown",
   "id": "beab6abd",
   "metadata": {},
   "source": [
    "#### Reading and saving csv files to variables"
   ]
  },
  {
   "cell_type": "code",
   "execution_count": 153,
   "id": "cd1d95df",
   "metadata": {},
   "outputs": [],
   "source": [
    "CES_FALL_2020_0 = pd.read_csv(\"Computing Entry Survey Fall 2020.csv\")\n",
    "CLCES_FALL_2020_0 = pd.read_csv(\"Computing Literacy Course Entry Survey Fall 2020.csv\")\n",
    "CES_FALL_2021_0 = pd.read_csv(\"Computing Entry Survey Fall 2021.csv\")\n",
    "CLCES_FALL_2021_0 = pd.read_csv(\"Computing Literacy Course Entry Survey Fall 2021.csv\")"
   ]
  },
  {
   "cell_type": "markdown",
   "id": "74e626a5",
   "metadata": {},
   "source": [
    "#### Copying original dataframe to new variable"
   ]
  },
  {
   "cell_type": "code",
   "execution_count": 166,
   "id": "e9aa349d",
   "metadata": {},
   "outputs": [],
   "source": [
    "CES_FALL_2020_1 = CES_FALL_2020_0.copy()\n",
    "CLCES_FALL_2020_1 = CLCES_FALL_2020_0.copy()\n",
    "CES_FALL_2021_1 = CES_FALL_2021_0.copy()\n",
    "CLCES_FALL_2021_1 = CLCES_FALL_2021_0.copy()\n",
    "\n",
    "dataframes1 = [CES_FALL_2020_1, CLCES_FALL_2020_1, CES_FALL_2021_1, CLCES_FALL_2021_1]"
   ]
  },
  {
   "cell_type": "markdown",
   "id": "cb7ef1bb",
   "metadata": {},
   "source": [
    "#### Removing unnecessary columns"
   ]
  },
  {
   "cell_type": "code",
   "execution_count": 167,
   "id": "c73a7571",
   "metadata": {},
   "outputs": [],
   "source": [
    "CES_FALL_2020_1.drop(CES_FALL_2020_1.columns[[0, *range(16, 62, 1), *range(63, 74, 1), 75]], axis = 1, inplace = True)\n",
    "\n",
    "CLCES_FALL_2020_1.drop(CLCES_FALL_2020_1.columns[[0, *range(2, 20, 1), *range(21, 32, 1), *range(33, 39, 1), 40]], axis = 1, inplace = True)\n",
    "\n",
    "CES_FALL_2021_1.drop(CES_FALL_2021_1.index[245:247], inplace = True)\n",
    "CES_FALL_2021_1.drop(CES_FALL_2021_1.columns[[0, *range(16, 62, 1), *range(63, 85, 1), 86]], axis = 1, inplace = True)\n",
    "\n",
    "CLCES_FALL_2021_1.drop(CLCES_FALL_2021_1.index[122:126], inplace = True)\n",
    "CLCES_FALL_2021_1.drop(CLCES_FALL_2021_1.columns[[*range(0, 6, 1), *range(7, 35, 1), *range(46, 57, 1), *range(58, 64, 1), *range(65, 74, 1), *range(77, 79, 1)]], axis = 1, inplace = True)"
   ]
  },
  {
   "cell_type": "markdown",
   "id": "4cb72c73",
   "metadata": {},
   "source": [
    "#### Saving column headers"
   ]
  },
  {
   "cell_type": "code",
   "execution_count": 168,
   "id": "11e8c3a0",
   "metadata": {},
   "outputs": [],
   "source": [
    "WAYS_SET = set()\n",
    "\n",
    "for dataframe in dataframes1:\n",
    "    for column in dataframe.columns:\n",
    "        if \"[\" and \"]\" in column:\n",
    "            WAYS_SET.add(column[column.find(\"[\")+1:column.find(\"]\")].replace(\" \", \"_\").lower())"
   ]
  },
  {
   "cell_type": "markdown",
   "id": "dbedbd4d",
   "metadata": {},
   "source": [
    "#### Renaming column headers"
   ]
  },
  {
   "cell_type": "code",
   "execution_count": 169,
   "id": "a4e9bb99",
   "metadata": {},
   "outputs": [],
   "source": [
    "for dataframe in dataframes1:\n",
    "    dataframe.columns = [column[column.find(\"[\")+1:column.find(\"]\")].replace(\" \", \"_\").lower() if \"[\" and \"]\" in column else column for column in dataframe]\n",
    "    dataframe.columns = [\"course\" if \"Which course\" in column else column for column in dataframe]\n",
    "    dataframe.columns = [\"program\" if \"What degree\" in column else column for column in dataframe]\n",
    "    dataframe.columns = [\"interest\" if \"interested\" in column else column for column in dataframe]\n",
    "    \n",
    "    dataframe.rename(columns = {\"Gender\": \"gender\", \"Race/ethnicity\": \"race\", \"Age \": \"age\"}, inplace = True)\n",
    "    \n",
    "CLCES_FALL_2020_1.columns = [\"hear\" if \"hear\" in column else column for column in CLCES_FALL_2020_1]"
   ]
  },
  {
   "cell_type": "markdown",
   "id": "86a99e71",
   "metadata": {},
   "source": [
    "#### Cleaning data in columns"
   ]
  },
  {
   "cell_type": "code",
   "execution_count": 170,
   "id": "e67793e9",
   "metadata": {},
   "outputs": [],
   "source": [
    "for dataframe in dataframes1:\n",
    "    for key, value in dataframe.course.iteritems():\n",
    "        dataframe.at[key, \"course\"] = value[0:7]\n",
    "    \n",
    "    for key, value in dataframe.program.iteritems():\n",
    "        if \",\" in list(value):\n",
    "            dataframe.at[key, \"program\"] = value[:value.index(\",\")]\n",
    "        \n",
    "    for key, value in dataframe.race.iteritems():\n",
    "        if \";\" in list(value):\n",
    "            dataframe.at[key, \"race\"] = \"Multi-Racial\"\n",
    "            \n",
    "    dataframe.race = dataframe.race.str.replace(\"Hispanic or Latino\", \"Hispanic\")\n",
    "    dataframe.race = dataframe.race.str.replace(\"White/Caucasian\", \"White\")\n",
    "    dataframe.race = dataframe.race.str.replace(\"Black/African American\", \"African American\")\n",
    "    dataframe.race = dataframe.race.str.replace(\"American Indian/Native American/Alaska Native\", \"Native American\")"
   ]
  },
  {
   "cell_type": "markdown",
   "id": "80a71b9a",
   "metadata": {},
   "source": [
    "#### Organization of data for graphing"
   ]
  },
  {
   "cell_type": "code",
   "execution_count": 171,
   "id": "59f2f779",
   "metadata": {},
   "outputs": [],
   "source": [
    "CES_FALL_2020_2 = CES_FALL_2020_1.copy()[[\"program\", \"interest\"]]\n",
    "CLCES_FALL_2020_2 = CLCES_FALL_2020_1.copy()[[\"program\", \"interest\"]]\n",
    "CES_FALL_2021_2 = CES_FALL_2021_1.copy()[[\"program\", \"interest\"]]\n",
    "CLCES_FALL_2021_2 = CLCES_FALL_2021_1.copy()[[\"program\", \"interest\"]]\n",
    "\n",
    "dataframes2 = [CES_FALL_2020_2, CLCES_FALL_2020_2, CES_FALL_2021_2, CLCES_FALL_2021_2]\n",
    "\n",
    "for dataframe in dataframes2:\n",
    "    dataframe = dataframe.dropna().reset_index(drop = True)\n",
    "    \n",
    "interestDataFrame1 = pd.concat(dataframes2, axis = 0, ignore_index = True)\n",
    "interestDataFrame2 = interestDataFrame1.groupby(\"program\")[\"interest\"].mean().rename_axis(\"program\").reset_index(name = \"interest\")\n",
    "\n",
    "majors = [\"Computer Science\", \"Information Technology\", \"Criminal Justice\", \"Nursing\", \"ShareTime CSIP Program\"]\n",
    "\n",
    "interestDataFrame3 = interestDataFrame2[interestDataFrame2[\"program\"].isin(majors)].dropna().reset_index(drop = True)"
   ]
  },
  {
   "cell_type": "markdown",
   "id": "9aaca8b9",
   "metadata": {},
   "source": [
    "#### Which majors are most likely to take more information technologies courses?"
   ]
  },
  {
   "cell_type": "code",
   "execution_count": 172,
   "id": "32e0998d",
   "metadata": {},
   "outputs": [
    {
     "data": {
      "text/plain": [
       "<AxesSubplot:ylabel='program'>"
      ]
     },
     "execution_count": 172,
     "metadata": {},
     "output_type": "execute_result"
    },
    {
     "data": {
      "image/png": "[encoded data removed]",
      "text/plain": [
       "<Figure size 432x288 with 1 Axes>"
      ]
     },
     "metadata": {
      "needs_background": "light"
     },
     "output_type": "display_data"
    }
   ],
   "source": [
    "interestDataFrame3.plot.barh(x = \"program\", y = \"interest\")"
   ]
  },
  {
   "cell_type": "markdown",
   "id": "a0daa847",
   "metadata": {},
   "source": [
    "#### Computer Science majors tend to have a higher interest on a scale from 1 to 5 in taking more information technologies courses than Nursing majors or Criminal Justice majors."
   ]
  },
  {
   "cell_type": "markdown",
   "id": "4fd7f20d",
   "metadata": {},
   "source": [
    "#### Organization of data for graphing"
   ]
  },
  {
   "cell_type": "code",
   "execution_count": 173,
   "id": "61861bcb",
   "metadata": {},
   "outputs": [],
   "source": [
    "waysDataFrame = pd.DataFrame(columns=[\"Way\", \"Count\"])\n",
    "\n",
    "for dataframe in dataframes1:\n",
    "    for WAY in WAYS_SET:\n",
    "        count = 0\n",
    "        \n",
    "        if WAY in dataframe.columns:\n",
    "            count = count + len(dataframe[dataframe[WAY] == \"Yes\"])\n",
    "            \n",
    "            if WAY in waysDataFrame.Way.values:\n",
    "                waysDataFrame.loc[waysDataFrame.Way == WAY, \"Count\"] = waysDataFrame.loc[waysDataFrame.Way == WAY, \"Count\"] + count\n",
    "            else:\n",
    "                waysDataFrame.loc[len(waysDataFrame)] = [WAY, count]\n",
    "                \n",
    "for key, value in waysDataFrame.Way.iteritems():\n",
    "    waysDataFrame.at[key, \"Way\"] = value.replace(\"_\", \" \").capitalize()"
   ]
  },
  {
   "cell_type": "markdown",
   "id": "1ba4f7f5",
   "metadata": {},
   "source": [
    "#### What ways are the most effective at enrolling students?"
   ]
  },
  {
   "cell_type": "code",
   "execution_count": 175,
   "id": "0006a379",
   "metadata": {},
   "outputs": [
    {
     "data": {
      "text/plain": [
       "<AxesSubplot:ylabel='Way'>"
      ]
     },
     "execution_count": 175,
     "metadata": {},
     "output_type": "execute_result"
    },
    {
     "data": {
      "image/png": "[encoded data removed]",
      "text/plain": [
       "<Figure size 432x288 with 1 Axes>"
      ]
     },
     "metadata": {
      "needs_background": "light"
     },
     "output_type": "display_data"
    }
   ],
   "source": [
    "waysDataFrame.plot.barh(x = \"Way\", y = \"Count\")"
   ]
  },
  {
   "cell_type": "markdown",
   "id": "6f00e032",
   "metadata": {},
   "source": [
    "#### Family members or friends are the most effective way of enrolling students."
   ]
  },
  {
   "cell_type": "markdown",
   "id": "dfe13949",
   "metadata": {},
   "source": [
    "#### Organization of data for graphing"
   ]
  },
  {
   "cell_type": "code",
   "execution_count": 176,
   "id": "95972939",
   "metadata": {},
   "outputs": [],
   "source": [
    "CES_FALL_2020_3 = CES_FALL_2020_1.copy()[[\"gender\"]]\n",
    "CLCES_FALL_2020_3 = CLCES_FALL_2020_1.copy()[[\"gender\"]]\n",
    "CES_FALL_2021_3 = CES_FALL_2021_1.copy()[[\"gender\"]]\n",
    "CLCES_FALL_2021_3 = CLCES_FALL_2021_1.copy()[[\"gender\"]]\n",
    "\n",
    "dataframes3 = [CES_FALL_2020_3, CLCES_FALL_2020_3, CES_FALL_2021_3, CLCES_FALL_2021_3]\n",
    "\n",
    "for dataframe in dataframes3:\n",
    "    for key, value in dataframe.gender.iteritems():\n",
    "        if str(value) == \"Man\":\n",
    "            dataframe.at[key, \"gender\"] = \"Male\"\n",
    "        elif str(value) == \"Woman\":\n",
    "            dataframe.at[key, \"gender\"] = \"Female\"\n",
    "            \n",
    "gendersDataFrame = pd.concat(dataframes3, axis = 0, ignore_index = True)\n",
    "gendersCountDataFrame = gendersDataFrame.value_counts().rename_axis(\"gender\").reset_index(name = \"count\")"
   ]
  },
  {
   "cell_type": "markdown",
   "id": "885d99c0",
   "metadata": {},
   "source": [
    "#### What is the breakdown by gender of these courses?"
   ]
  },
  {
   "cell_type": "code",
   "execution_count": 177,
   "id": "d82ff3e1",
   "metadata": {},
   "outputs": [
    {
     "data": {
      "text/plain": [
       "([<matplotlib.patches.Wedge at 0x19593fe9040>,\n",
       "  <matplotlib.patches.Wedge at 0x19593fe9520>,\n",
       "  <matplotlib.patches.Wedge at 0x19593fe9a00>,\n",
       "  <matplotlib.patches.Wedge at 0x19593fe9ee0>,\n",
       "  <matplotlib.patches.Wedge at 0x19593ff7400>],\n",
       " [Text(-0.38288055651116853, 1.0312140803178058, 'Male'),\n",
       "  Text(0.27634061669606724, -1.0647233741982174, 'Female'),\n",
       "  Text(1.091145159800405, -0.13929192454750908, 'Prefer not to say'),\n",
       "  Text(1.0992762571482677, -0.0398962463158569, 'Non-binary'),\n",
       "  Text(1.0999348548016743, -0.011971432346206583, 'I do not identify')])"
      ]
     },
     "execution_count": 177,
     "metadata": {},
     "output_type": "execute_result"
    },
    {
     "data": {
      "image/png": "[encoded data removed]",
      "text/plain": [
       "<Figure size 432x288 with 1 Axes>"
      ]
     },
     "metadata": {},
     "output_type": "display_data"
    }
   ],
   "source": [
    "plt.pie(gendersCountDataFrame[\"count\"], labels = gendersCountDataFrame[\"gender\"])"
   ]
  },
  {
   "cell_type": "markdown",
   "id": "abf9fc19",
   "metadata": {},
   "source": [
    "#### The majority of the students enrolled in computing or computing literacy courses are male."
   ]
  },
  {
   "cell_type": "markdown",
   "id": "2e644b64",
   "metadata": {},
   "source": [
    "#### Organization of data for graphing"
   ]
  },
  {
   "cell_type": "code",
   "execution_count": 178,
   "id": "03a9e9c6",
   "metadata": {},
   "outputs": [],
   "source": [
    "CES_FALL_2020_4 = CES_FALL_2020_1.copy()[[\"age\"]]\n",
    "CLCES_FALL_2020_4 = CLCES_FALL_2020_1.copy()[[\"age\"]]\n",
    "CES_FALL_2021_4 = CES_FALL_2021_1.copy()[[\"age\"]]\n",
    "CLCES_FALL_2021_4 = CLCES_FALL_2021_1.copy()[[\"age\"]]\n",
    "\n",
    "dataframes4 = [CES_FALL_2020_4, CLCES_FALL_2020_4, CES_FALL_2021_4, CLCES_FALL_2021_4]\n",
    "            \n",
    "agesDataFrame = pd.concat(dataframes4, axis = 0, ignore_index = True)\n",
    "agesCountDataFrame = agesDataFrame.value_counts().rename_axis(\"age\").reset_index(name = \"count\")"
   ]
  },
  {
   "cell_type": "markdown",
   "id": "c021e435",
   "metadata": {},
   "source": [
    "#### What is the breakdown by age group of these courses?"
   ]
  },
  {
   "cell_type": "code",
   "execution_count": 179,
   "id": "7713948a",
   "metadata": {},
   "outputs": [
    {
     "data": {
      "text/plain": [
       "([<matplotlib.patches.Wedge at 0x1959402ef10>,\n",
       "  <matplotlib.patches.Wedge at 0x1959403d460>,\n",
       "  <matplotlib.patches.Wedge at 0x1959403d940>,\n",
       "  <matplotlib.patches.Wedge at 0x1959403de20>,\n",
       "  <matplotlib.patches.Wedge at 0x19594048340>,\n",
       "  <matplotlib.patches.Wedge at 0x19594048820>],\n",
       " [Text(0.4214120672735007, 1.0160767045633292, '19-20'),\n",
       "  Text(-1.09434324535038, -0.11141302148311809, '18 and younger'),\n",
       "  Text(-0.04980642122392797, -1.098871839845241, '21-24'),\n",
       "  Text(0.8235650844113662, -0.729205424923937, '25-34'),\n",
       "  Text(1.0782273230013262, -0.21777474585771875, '35-64'),\n",
       "  Text(1.0998844583161538, -0.015942971949458217, '65+')])"
      ]
     },
     "execution_count": 179,
     "metadata": {},
     "output_type": "execute_result"
    },
    {
     "data": {
      "image/png": "[encoded data removed]",
      "text/plain": [
       "<Figure size 432x288 with 1 Axes>"
      ]
     },
     "metadata": {},
     "output_type": "display_data"
    }
   ],
   "source": [
    "plt.pie(agesCountDataFrame[\"count\"], labels = agesCountDataFrame[\"age\"])"
   ]
  },
  {
   "cell_type": "markdown",
   "id": "bc381c84",
   "metadata": {},
   "source": [
    "#### The majority of the students enrolled in computing and computing literacy courses fall into the 19-20 age group."
   ]
  }
 ],
 "metadata": {
  "kernelspec": {
   "display_name": "Python 3 (ipykernel)",
   "language": "python",
   "name": "python3"
  },
  "language_info": {
   "codemirror_mode": {
    "name": "ipython",
    "version": 3
   },
   "file_extension": ".py",
   "mimetype": "text/x-python",
   "name": "python",
   "nbconvert_exporter": "python",
   "pygments_lexer": "ipython3",
   "version": "3.9.12"
  }
 },
 "nbformat": 4,
 "nbformat_minor": 5
}
